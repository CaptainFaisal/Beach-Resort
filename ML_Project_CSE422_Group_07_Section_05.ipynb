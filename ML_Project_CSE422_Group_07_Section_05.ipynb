{
  "nbformat": 4,
  "nbformat_minor": 0,
  "metadata": {
    "colab": {
      "provenance": [],
      "authorship_tag": "ABX9TyNvKyfKMMkFM1sy9ALjtBFh",
      "include_colab_link": true
    },
    "kernelspec": {
      "name": "python3",
      "display_name": "Python 3"
    },
    "language_info": {
      "name": "python"
    }
  },
  "cells": [
    {
      "cell_type": "markdown",
      "metadata": {
        "id": "view-in-github",
        "colab_type": "text"
      },
      "source": [
        "<a href=\"https://colab.research.google.com/github/CaptainFaisal/Beach-Resort/blob/master/ML_Project_CSE422_Group_07_Section_05.ipynb\" target=\"_parent\"><img src=\"https://colab.research.google.com/assets/colab-badge.svg\" alt=\"Open In Colab\"/></a>"
      ]
    },
    {
      "cell_type": "code",
      "execution_count": 10,
      "metadata": {
        "id": "nH3w8pWF2pim"
      },
      "outputs": [],
      "source": [
        "import pandas as pd"
      ]
    },
    {
      "cell_type": "code",
      "source": [
        "crime_data = pd.read_csv(\"/content/sample_data/database.csv\")\n",
        "crime_data.columns"
      ],
      "metadata": {
        "id": "4URjgvF96yOS",
        "colab": {
          "base_uri": "https://localhost:8080/"
        },
        "outputId": "118797cd-210c-4274-a001-a7e151946702"
      },
      "execution_count": 11,
      "outputs": [
        {
          "output_type": "execute_result",
          "data": {
            "text/plain": [
              "Index(['Record ID', 'Agency Code', 'Agency Name', 'Agency Type', 'City',\n",
              "       'State', 'Year', 'Month', 'Incident', 'Crime Type', 'Crime Solved',\n",
              "       'Victim Sex', 'Victim Age', 'Victim Race', 'Victim Ethnicity',\n",
              "       'Perpetrator Sex', 'Perpetrator Age', 'Perpetrator Race',\n",
              "       'Perpetrator Ethnicity', 'Relationship', 'Weapon', 'Victim Count',\n",
              "       'Perpetrator Count', 'Record Source'],\n",
              "      dtype='object')"
            ]
          },
          "metadata": {},
          "execution_count": 11
        }
      ]
    },
    {
      "cell_type": "code",
      "source": [],
      "metadata": {
        "id": "1Vo61miX8nUo"
      },
      "execution_count": null,
      "outputs": []
    }
  ]
}